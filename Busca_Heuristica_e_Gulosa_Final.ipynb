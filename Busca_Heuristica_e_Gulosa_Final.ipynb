{
  "nbformat": 4,
  "nbformat_minor": 0,
  "metadata": {
    "colab": {
      "provenance": []
    },
    "kernelspec": {
      "name": "python3",
      "display_name": "Python 3"
    },
    "language_info": {
      "name": "python"
    }
  },
  "cells": [
    {
      "cell_type": "markdown",
      "source": [
        "#Trabalho II - Busca Heuristica e Gulosa"
      ],
      "metadata": {
        "id": "KDSUNqmMp5UX"
      }
    },
    {
      "cell_type": "markdown",
      "source": [
        "##Grupo: Dylan Faria Robson, Thiago Baiense Peçanha Viera, Lucas Laranja Alcantara"
      ],
      "metadata": {
        "id": "aaIj2SOwp-xl"
      }
    },
    {
      "cell_type": "markdown",
      "source": [
        "###Mapa com cidades utilizadas:"
      ],
      "metadata": {
        "id": "2lbReTA7qKv_"
      }
    },
    {
      "cell_type": "markdown",
      "source": [
        "![picture](https://drive.google.com/uc?export=view&id=1mhL1EzJcmstFbo__ec23h15QwRu63GkH)"
      ],
      "metadata": {
        "id": "ZSTYUMiCqPDQ"
      }
    },
    {
      "cell_type": "markdown",
      "source": [
        "###Tabela de cidades disponiveis:"
      ],
      "metadata": {
        "id": "fdBlJTMuquMY"
      }
    },
    {
      "cell_type": "markdown",
      "source": [
        "![picture](https://drive.google.com/uc?export=view&id=12ZGRWH0Rr_K6ARWAkXIG1kUgAeupSmUU)"
      ],
      "metadata": {
        "id": "pl0iR2ezqypx"
      }
    },
    {
      "cell_type": "markdown",
      "source": [
        "###Codigo:"
      ],
      "metadata": {
        "id": "GrPaIsSiswgA"
      }
    },
    {
      "cell_type": "code",
      "execution_count": null,
      "metadata": {
        "id": "x27b2slQp3T_"
      },
      "outputs": [],
      "source": [
        "import heapq\n",
        "\n",
        "#Grafo principal para calculo de g(n)\n",
        "grafo_principal = {\n",
        "    'Vitória': {'Serra': 19.0, 'Viana': 11.1},\n",
        "    'Viana': {'Guarapari': 35.09, 'Domingos Martins': 23.96, 'Vitória': 11.1},\n",
        "    'Guarapari': {'Viana': 35.09, 'Anchieta': 20.64},\n",
        "    'Anchieta': {'Guarapari': 20.64, 'Itaipava': 15.93},\n",
        "    'Itaipava': {'Anchieta': 15.93, 'Marataízes': 17.08},\n",
        "    'Marataízes': {'Itaipava': 17.08, 'Cachoeiro de Itapemirim': 41.55},\n",
        "    'Cachoeiro de Itapemirim': {'Marataízes': 41.55, 'Cabelo': 27.5},\n",
        "    'Cabelo': {'Cachoeiro de Itapemirim': 27.5, 'Venda Nova do Imigrante': 28.72},\n",
        "    'Venda Nova do Imigrante': {'Cabelo': 28.72, 'Afonso Cláudio': 40.6, 'Arace': 17.24},\n",
        "    'Afonso Cláudio': {'Santa Maria de Jetibá': 40.6, 'Venda Nova do Imigrante': 28.0},\n",
        "    'Santa Maria de Jetibá': {'Serra': 45.57, 'Afonso Cláudio': 40.6, 'Paraju': 33.37},\n",
        "    'Paraju': {'Arace': 23.96, 'Domingos Martins': 17.41, 'Santa Maria de Jetibá': 33.37},\n",
        "    'Domingos Martins': {'Paraju': 17.41, 'Viana': 23.96},\n",
        "    'Serra': {'Vitória': 19.0, 'Santa Maria de Jetibá': 45.57},\n",
        "    'Arace': {'Venda Nova do Imigrante': 17.24, 'Paraju': 23.52}\n",
        "}\n",
        "\n",
        "#Grafo Auxiliar para calculo de h(n)\n",
        "grafo_aux = {\n",
        "    'Vitória': {'Vitória': 0.0},\n",
        "    'Viana': {'Vitória': 11.1},\n",
        "    'Guarapari': { 'Vitória': 43.57},\n",
        "    'Anchieta': {'Vitória': 61.17},\n",
        "    'Itaipava': {'Vitória': 78.01},\n",
        "    'Marataízes': {'Vitória': 95.61},\n",
        "    'Cachoeiro de Itapemirim': {'Vitória': 100.25},\n",
        "    'Cabelo': {'Vitória': 94.06},\n",
        "    'Venda Nova do Imigrante': {'Vitória':  82.47 },\n",
        "    'Afonso Cláudio': {'Vitória': 88.08},\n",
        "    'Santa Maria de Jetibá': {'Vitória': 54.65},\n",
        "    'Paraju': {'Vitória': 47.48},\n",
        "    'Domingos Martins': {'Vitória': 33.68},\n",
        "    'Serra': {'Vitória': 19.0},\n",
        "    'Arace': {'Vitória': 70.27}\n",
        "}\n",
        "\n",
        "#Função comum para as duas buscas\n",
        "def encontra_caminho(origem, destino, relacao_cidades_visitadas):\n",
        "    caminho = []\n",
        "    no_atual = destino\n",
        "    #Percorre os nós ao contrario e adiciona ao \"caminho\"\n",
        "    while no_atual:\n",
        "        caminho.append(no_atual)\n",
        "        no_atual = relacao_cidades_visitadas[no_atual]\n",
        "    caminho.reverse()\n",
        "    return caminho\n",
        "\n",
        "\n",
        "def busca_heuristica(origem, destino):\n",
        "    # Fila de prioridade\n",
        "    fila_prioridade = [(0 + grafo_aux[origem][destino], origem)] # f(n) = g(n) + h(n)\n",
        "    custo_atual = {origem: 0} # Dicionario para g(n)\n",
        "    relacao_cidades_visitadas = {origem: None}\n",
        "\n",
        "    while fila_prioridade:\n",
        "        # Remove o nó com o menor valor f(n)\n",
        "        _, no_atual = heapq.heappop(fila_prioridade)\n",
        "\n",
        "        # Verifica se chegou no destino\n",
        "        if no_atual == destino:\n",
        "            # Função que percorre e retorna todo o caminho\n",
        "            caminho = encontra_caminho(origem, destino, relacao_cidades_visitadas)\n",
        "            return print(f'\\nO caminho percorrido foi: {caminho} e a distancia: {custo_atual[destino]: .2f}.')\n",
        "\n",
        "        # Verifica os vizinhos do nó atual\n",
        "        for vizinho, custo in grafo_principal[no_atual].items():\n",
        "            # Calcula o novo custo para o vizinho\n",
        "            novo_custo = custo_atual[no_atual] + custo # g(n)\n",
        "            # Verifica se o vizinho já foi visitado ou está na fila de prioridade\n",
        "            if vizinho not in custo_atual or novo_custo < custo_atual[vizinho]:\n",
        "                # Atualiza o custo e a raiz do vizinho\n",
        "                custo_atual[vizinho] = novo_custo\n",
        "                relacao_cidades_visitadas[vizinho] = no_atual\n",
        "\n",
        "                # Adiciona o vizinho na fila de prioridade com o valor f(n)\n",
        "\n",
        "                heapq.heappush(fila_prioridade, (novo_custo + grafo_aux[vizinho][destino], vizinho))\n",
        "\n",
        "    # Caso não seja possível encontrar um caminho, retorna None\n",
        "    return None, None\n",
        "\n",
        "def busca_gulosa(origem, destino):\n",
        "    # Fila de prioridade\n",
        "    fila_prioridade = [(grafo_aux[origem][destino], origem)] # h(n)\n",
        "    relacao_cidades_visitadas = {origem: None}\n",
        "\n",
        "    while fila_prioridade:\n",
        "        # Remove o nó com o menor valor h(n)\n",
        "        _, no_atual = heapq.heappop(fila_prioridade)\n",
        "\n",
        "        # Verifica se chegou no nó destino\n",
        "        if no_atual == destino:\n",
        "            # Retorna o caminho\n",
        "            caminho = encontra_caminho(origem, destino, relacao_cidades_visitadas)\n",
        "            return print(f'\\nO caminho percorrido foi: {caminho}')\n",
        "\n",
        "        # Verifica os vizinhos do nó atual\n",
        "        for vizinho, _ in grafo_principal[no_atual].items():\n",
        "            # Verifica se o vizinho já foi visitado ou está na fila de prioridade\n",
        "            if vizinho not in relacao_cidades_visitadas:\n",
        "                # Atualiza a raiz do vizinho\n",
        "                relacao_cidades_visitadas[vizinho] = no_atual\n",
        "\n",
        "                # Adiciona o vizinho na fila de prioridade com o valor h(n)\n",
        "                heapq.heappush(fila_prioridade, (grafo_aux[vizinho][destino], vizinho))\n",
        "\n",
        "    # Caso não seja possível encontrar um caminho, retorna None\n",
        "    return None\n",
        "\n",
        "\n",
        "def busca_Heuristica_ou_Gulosa():\n",
        "  #Tratamento de erro try exception\n",
        "  try:\n",
        "    #inputs do codigo\n",
        "    origem = str(input('Escreva o nome da cidade de origem (Destino = Vitória): '))\n",
        "    destino = 'Vitória'\n",
        "\n",
        "    #Tratamento de erros:\n",
        "    if origem == destino:\n",
        "      return print('A origem e o destino são iguais!')\n",
        "    elif origem not in grafo_principal:\n",
        "      return print('CIdade não encontrada')\n",
        "\n",
        "    print(f'A cidade destino será: {destino}')\n",
        "\n",
        "    opcao = str(input('Escreva a opção para a busca - H (Heuristica) ou G (Gulosa): '))\n",
        "\n",
        "    if opcao == 'H':\n",
        "      busca_heuristica(origem, destino)\n",
        "    elif opcao == 'G':\n",
        "      busca_gulosa(origem, destino)\n",
        "    else:\n",
        "      print('Opção não encontrada.')\n",
        "\n",
        "  except Exception as error:\n",
        "    print(f'Error: {error}')"
      ]
    },
    {
      "cell_type": "code",
      "source": [
        "# Chamada da função principal\n",
        "busca_Heuristica_ou_Gulosa()"
      ],
      "metadata": {
        "id": "SUiLFytRdBnO"
      },
      "execution_count": null,
      "outputs": []
    }
  ]
}